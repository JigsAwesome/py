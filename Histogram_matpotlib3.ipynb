{
  "nbformat": 4,
  "nbformat_minor": 0,
  "metadata": {
    "colab": {
      "provenance": [],
      "authorship_tag": "ABX9TyOp6IFdK/kfheGNOgXEhNhH",
      "include_colab_link": true
    },
    "kernelspec": {
      "name": "python3",
      "display_name": "Python 3"
    },
    "language_info": {
      "name": "python"
    }
  },
  "cells": [
    {
      "cell_type": "markdown",
      "metadata": {
        "id": "view-in-github",
        "colab_type": "text"
      },
      "source": [
        "<a href=\"https://colab.research.google.com/github/JigsAwesome/py/blob/master/Histogram_matpotlib3.ipynb\" target=\"_parent\"><img src=\"https://colab.research.google.com/assets/colab-badge.svg\" alt=\"Open In Colab\"/></a>"
      ]
    },
    {
      "cell_type": "code",
      "source": [
        "label=['green','blue'],"
      ],
      "metadata": {
        "id": "JzhvXfgh8_qV"
      },
      "execution_count": null,
      "outputs": []
    },
    {
      "cell_type": "code",
      "execution_count": null,
      "metadata": {
        "colab": {
          "base_uri": "https://localhost:8080/",
          "height": 312
        },
        "id": "rokILwqq8Spb",
        "outputId": "47c30ed7-d1e5-462d-b3d6-52bb8c83d99d"
      },
      "outputs": [
        {
          "output_type": "execute_result",
          "data": {
            "text/plain": [
              "<matplotlib.legend.Legend at 0x7f3459935990>"
            ]
          },
          "metadata": {},
          "execution_count": 13
        },
        {
          "output_type": "display_data",
          "data": {
            "text/plain": [
              "<Figure size 432x288 with 1 Axes>"
            ],
            "image/png": "[encoded data removed]"
          },
          "metadata": {
            "needs_background": "light"
          }
        }
      ],
      "source": [
        "import matplotlib.pyplot as plt\n",
        "\n",
        "Oil_in_BPD_Well_1= [100,200,305,600,800]\n",
        "Oil_in_BPD_Well_2 = [150,250,355,650,850]\n",
        "plt.xlabel('Oil Production(lit)')\n",
        "plt.ylabel ('Time(Hours)')\n",
        "plt.title('Crude Production Analyis')\n",
        "\n",
        "plt.hist([Oil_in_BPD_Well_1,Oil_in_BPD_Well_2], label=['well 1',' well 2'],color=['g','Red'],bins=[80,150,300,302,400],rwidth=.4\n",
        ",orientation='vertical')\n",
        "plt.legend()\n"
      ]
    },
    {
      "cell_type": "code",
      "source": [],
      "metadata": {
        "id": "sL3wuaaIZCoO"
      },
      "execution_count": null,
      "outputs": []
    }
  ]
}